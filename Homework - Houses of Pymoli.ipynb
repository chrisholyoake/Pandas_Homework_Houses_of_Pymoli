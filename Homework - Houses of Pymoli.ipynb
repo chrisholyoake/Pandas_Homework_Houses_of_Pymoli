{
 "cells": [
  {
   "cell_type": "code",
   "execution_count": 1,
   "metadata": {
    "colab": {},
    "colab_type": "code",
    "id": "Wmx5stylK81b"
   },
   "outputs": [],
   "source": [
    "# Dependencies and Setup\n",
    "import pandas as pd\n",
    "import numpy as np\n",
    "\n",
    "# File to Load (Remember to Change These)\n",
    "file_to_load = \"Resources/purchase_data.csv\"\n",
    "\n",
    "# Read Purchasing File and store into Pandas data frame\n",
    "purchase_data = pd.read_csv(file_to_load)"
   ]
  },
  {
   "cell_type": "markdown",
   "metadata": {
    "colab_type": "text",
    "id": "EcrmKQ9mK81g"
   },
   "source": [
    "## Player Count"
   ]
  },
  {
   "cell_type": "markdown",
   "metadata": {
    "colab_type": "text",
    "id": "RZfosmdlK81k"
   },
   "source": [
    "* Display the total number of players\n"
   ]
  },
  {
   "cell_type": "code",
   "execution_count": 2,
   "metadata": {
    "colab": {},
    "colab_type": "code",
    "id": "T8EGt5ZVK81o",
    "outputId": "debdabea-e554-46f0-c651-5c1a2ec78908",
    "scrolled": false
   },
   "outputs": [
    {
     "name": "stdout",
     "output_type": "stream",
     "text": [
      "there are 576 total players in this dataset\n"
     ]
    }
   ],
   "source": [
    "totalPlayers = len(purchase_data[\"SN\"].unique())\n",
    "totalPlayers\n",
    "print(\"there are \" + str(totalPlayers) + \" total players in this dataset\")\n",
    "\n"
   ]
  },
  {
   "cell_type": "markdown",
   "metadata": {
    "colab_type": "text",
    "id": "kv5gT3L9K81t"
   },
   "source": [
    "## Purchasing Analysis (Total)"
   ]
  },
  {
   "cell_type": "markdown",
   "metadata": {
    "colab_type": "text",
    "id": "dvXt-oz9K81u"
   },
   "source": [
    "* Run basic calculations to obtain number of unique items, average price, etc.\n",
    "\n",
    "\n",
    "* Create a summary data frame to hold the results\n",
    "\n",
    "\n",
    "* Optional: give the displayed data cleaner formatting\n",
    "\n",
    "\n",
    "* Display the summary data frame\n"
   ]
  },
  {
   "cell_type": "code",
   "execution_count": 3,
   "metadata": {
    "colab": {},
    "colab_type": "code",
    "id": "Bjtz1f2uK81w",
    "outputId": "f09e8b6e-86e5-4200-be0f-5fe3c97896bb",
    "scrolled": true
   },
   "outputs": [
    {
     "name": "stdout",
     "output_type": "stream",
     "text": [
      "179\n",
      "3.05\n",
      "780\n",
      "2379.77\n"
     ]
    },
    {
     "data": {
      "text/html": [
       "<div>\n",
       "<style scoped>\n",
       "    .dataframe tbody tr th:only-of-type {\n",
       "        vertical-align: middle;\n",
       "    }\n",
       "\n",
       "    .dataframe tbody tr th {\n",
       "        vertical-align: top;\n",
       "    }\n",
       "\n",
       "    .dataframe thead th {\n",
       "        text-align: right;\n",
       "    }\n",
       "</style>\n",
       "<table border=\"1\" class=\"dataframe\">\n",
       "  <thead>\n",
       "    <tr style=\"text-align: right;\">\n",
       "      <th></th>\n",
       "      <th>Unique Items</th>\n",
       "      <th>Average Purchase Price</th>\n",
       "      <th>Total Purchases</th>\n",
       "      <th>Total Revenue</th>\n",
       "    </tr>\n",
       "  </thead>\n",
       "  <tbody>\n",
       "    <tr>\n",
       "      <th>0</th>\n",
       "      <td>179</td>\n",
       "      <td>3.05</td>\n",
       "      <td>780</td>\n",
       "      <td>2379.77</td>\n",
       "    </tr>\n",
       "  </tbody>\n",
       "</table>\n",
       "</div>"
      ],
      "text/plain": [
       "   Unique Items  Average Purchase Price  Total Purchases  Total Revenue\n",
       "0           179                    3.05              780        2379.77"
      ]
     },
     "execution_count": 3,
     "metadata": {},
     "output_type": "execute_result"
    }
   ],
   "source": [
    "#Number of Unique Items\n",
    "uniqueItems = len(purchase_data[\"Item Name\"].unique())\n",
    "print(uniqueItems)\n",
    "\n",
    "#Average Purchase Price\n",
    "averagePurchasePrice = purchase_data[\"Price\"].sum() / purchase_data[\"Price\"].count()\n",
    "print(round(averagePurchasePrice,2))\n",
    "\n",
    "#Total Number of Purchases\n",
    "totalPurchases = purchase_data[\"Price\"].count()\n",
    "print(totalPurchases)\n",
    "\n",
    "#Total Revenue\n",
    "totalRevenue = purchase_data[\"Price\"].sum()\n",
    "print(totalRevenue)\n",
    "\n",
    "#Create a dataframe to hold these values\n",
    "summary = {\"Unique Items\":[uniqueItems],\"Average Purchase Price\":[round(averagePurchasePrice,2)],\"Total Purchases\":[totalPurchases],\"Total Revenue\":[totalRevenue]}\n",
    "summary_df = pd.DataFrame(data=summary)\n",
    "summary_df\n"
   ]
  },
  {
   "cell_type": "markdown",
   "metadata": {
    "colab_type": "text",
    "id": "2uh3dJ2YK811"
   },
   "source": [
    "## Gender Demographics"
   ]
  },
  {
   "cell_type": "markdown",
   "metadata": {
    "colab_type": "text",
    "id": "pM86l-1MK812"
   },
   "source": [
    "* Percentage and Count of Male Players\n",
    "\n",
    "\n",
    "* Percentage and Count of Female Players\n",
    "\n",
    "\n",
    "* Percentage and Count of Other / Non-Disclosed\n",
    "\n",
    "\n"
   ]
  },
  {
   "cell_type": "code",
   "execution_count": 4,
   "metadata": {
    "colab": {},
    "colab_type": "code",
    "id": "wPdOxwQnK813",
    "outputId": "504930e3-3365-4d10-863d-172f23342c7c"
   },
   "outputs": [
    {
     "name": "stdout",
     "output_type": "stream",
     "text": [
      "There are 576 total players\n",
      "484, or 84.03% of players are male\n",
      "81, or 14.06% of players are female\n",
      "11, or 11% of players are 'other / non-disclosed'\n"
     ]
    },
    {
     "data": {
      "text/html": [
       "<div>\n",
       "<style scoped>\n",
       "    .dataframe tbody tr th:only-of-type {\n",
       "        vertical-align: middle;\n",
       "    }\n",
       "\n",
       "    .dataframe tbody tr th {\n",
       "        vertical-align: top;\n",
       "    }\n",
       "\n",
       "    .dataframe thead th {\n",
       "        text-align: right;\n",
       "    }\n",
       "</style>\n",
       "<table border=\"1\" class=\"dataframe\">\n",
       "  <thead>\n",
       "    <tr style=\"text-align: right;\">\n",
       "      <th></th>\n",
       "      <th>Gender</th>\n",
       "      <th>Total Count</th>\n",
       "      <th>Percentage of Players</th>\n",
       "    </tr>\n",
       "  </thead>\n",
       "  <tbody>\n",
       "    <tr>\n",
       "      <th>0</th>\n",
       "      <td>Male</td>\n",
       "      <td>484</td>\n",
       "      <td>84.030000</td>\n",
       "    </tr>\n",
       "    <tr>\n",
       "      <th>1</th>\n",
       "      <td>Female</td>\n",
       "      <td>81</td>\n",
       "      <td>14.060000</td>\n",
       "    </tr>\n",
       "    <tr>\n",
       "      <th>2</th>\n",
       "      <td>Other / Non-Disclosed</td>\n",
       "      <td>11</td>\n",
       "      <td>0.019097</td>\n",
       "    </tr>\n",
       "  </tbody>\n",
       "</table>\n",
       "</div>"
      ],
      "text/plain": [
       "                  Gender  Total Count  Percentage of Players\n",
       "0                   Male          484              84.030000\n",
       "1                 Female           81              14.060000\n",
       "2  Other / Non-Disclosed           11               0.019097"
      ]
     },
     "execution_count": 4,
     "metadata": {},
     "output_type": "execute_result"
    }
   ],
   "source": [
    "#remove duplicate players\n",
    "player_df = purchase_data[[\"SN\",\"Gender\",\"Age\"]]\n",
    "player_df = player_df.drop_duplicates(\"SN\")\n",
    "totalPlayers = player_df[\"Gender\"].count()\n",
    "print(\"There are \" + str(totalPlayers) + \" total players\")\n",
    "\n",
    "#Percentage and Count of Male Players\n",
    "malePlayerCount = player_df.loc[player_df[\"Gender\"] ==\"Male\"].count()\n",
    "malePlayerCount = malePlayerCount[0]\n",
    "malePlayerPercent = round((malePlayerCount / player_df[\"Gender\"].count())*100,2)\n",
    "\n",
    "print(str(malePlayerCount) + \", or \" + str(malePlayerPercent) + \"% of players are male\")\n",
    "\n",
    "#Percentage and Count of Female Players\n",
    "#femalePlayerCount\n",
    "femalePlayerCount = player_df.loc[player_df[\"Gender\"] == \"Female\"].count()\n",
    "femalePlayerCount = femalePlayerCount[0]\n",
    "\n",
    "#femalePlayerPercent\n",
    "femalePlayerPercent = round((femalePlayerCount / totalPlayers)*100,2)\n",
    "print(str(femalePlayerCount) + \", or \" + str(femalePlayerPercent) + \"% of players are female\")\n",
    "\n",
    "#Percentage and Count of Other / Non-Disclosed\n",
    "LAT = totalPlayers - (femalePlayerCount + malePlayerCount)\n",
    "LATPercent = LAT/totalPlayers\n",
    "print(str(LAT) + \", or \" + str(LAT) + \"% of players are 'other / non-disclosed'\")\n",
    "\n",
    "#Create a dataframe\n",
    "gs = {\"Gender\":[\"Male\",\"Female\",\"Other / Non-Disclosed\"],\"Total Count\":[malePlayerCount,femalePlayerCount, LAT],\"Percentage of Players\":[malePlayerPercent,femalePlayerPercent,LATPercent]}\n",
    "gender_df = pd.DataFrame.from_dict(gs)\n",
    "gender_df\n"
   ]
  },
  {
   "cell_type": "markdown",
   "metadata": {
    "colab_type": "text",
    "id": "15yMfiYFK817"
   },
   "source": [
    "\n",
    "## Purchasing Analysis (Gender)"
   ]
  },
  {
   "cell_type": "markdown",
   "metadata": {
    "colab_type": "text",
    "id": "NP20erxAK818"
   },
   "source": [
    "* Run basic calculations to obtain purchase count, avg. purchase price, avg. purchase total per person etc. by gender\n",
    "\n",
    "\n",
    "\n",
    "\n",
    "* Create a summary data frame to hold the results\n",
    "\n",
    "\n",
    "* Optional: give the displayed data cleaner formatting\n",
    "\n",
    "\n",
    "* Display the summary data frame"
   ]
  },
  {
   "cell_type": "code",
   "execution_count": 5,
   "metadata": {
    "colab": {},
    "colab_type": "code",
    "id": "tO86f1y0K81-",
    "outputId": "6f0277c5-e71c-48c8-a36d-3910c034ca0a"
   },
   "outputs": [
    {
     "name": "stdout",
     "output_type": "stream",
     "text": [
      "652 1967.64 3.02\n",
      "113 361.94 3.2\n",
      "15 50.19 3.35\n",
      "4.07\n",
      "4.47\n",
      "4.56\n"
     ]
    },
    {
     "data": {
      "text/html": [
       "<div>\n",
       "<style scoped>\n",
       "    .dataframe tbody tr th:only-of-type {\n",
       "        vertical-align: middle;\n",
       "    }\n",
       "\n",
       "    .dataframe tbody tr th {\n",
       "        vertical-align: top;\n",
       "    }\n",
       "\n",
       "    .dataframe thead th {\n",
       "        text-align: right;\n",
       "    }\n",
       "</style>\n",
       "<table border=\"1\" class=\"dataframe\">\n",
       "  <thead>\n",
       "    <tr style=\"text-align: right;\">\n",
       "      <th></th>\n",
       "      <th>Gender</th>\n",
       "      <th>Purchase Count</th>\n",
       "      <th>Average Purchase Price</th>\n",
       "      <th>Total Purchase Value</th>\n",
       "      <th>Avg Total Purchase Per Person</th>\n",
       "    </tr>\n",
       "  </thead>\n",
       "  <tbody>\n",
       "    <tr>\n",
       "      <th>0</th>\n",
       "      <td>Male</td>\n",
       "      <td>652</td>\n",
       "      <td>3.02</td>\n",
       "      <td>1967.64</td>\n",
       "      <td>4.07</td>\n",
       "    </tr>\n",
       "    <tr>\n",
       "      <th>1</th>\n",
       "      <td>Female</td>\n",
       "      <td>113</td>\n",
       "      <td>3.20</td>\n",
       "      <td>361.94</td>\n",
       "      <td>4.47</td>\n",
       "    </tr>\n",
       "    <tr>\n",
       "      <th>2</th>\n",
       "      <td>Other / Non-Disclosed</td>\n",
       "      <td>15</td>\n",
       "      <td>3.35</td>\n",
       "      <td>50.19</td>\n",
       "      <td>4.56</td>\n",
       "    </tr>\n",
       "  </tbody>\n",
       "</table>\n",
       "</div>"
      ],
      "text/plain": [
       "                  Gender  Purchase Count  Average Purchase Price  \\\n",
       "0                   Male             652                    3.02   \n",
       "1                 Female             113                    3.20   \n",
       "2  Other / Non-Disclosed              15                    3.35   \n",
       "\n",
       "   Total Purchase Value  Avg Total Purchase Per Person  \n",
       "0               1967.64                           4.07  \n",
       "1                361.94                           4.47  \n",
       "2                 50.19                           4.56  "
      ]
     },
     "execution_count": 5,
     "metadata": {},
     "output_type": "execute_result"
    }
   ],
   "source": [
    "#---MALES----\n",
    "#Purchase Count\n",
    "malePurchases = purchase_data.loc[purchase_data[\"Gender\"] == \"Male\"].count()\n",
    "malePurchases = malePurchases[0]\n",
    "\n",
    "#Total Purchase Value\n",
    "allMalePurchases = purchase_data.loc[purchase_data[\"Gender\"] == \"Male\"]\n",
    "totalPurchaseValueMales = allMalePurchases[\"Price\"].sum()\n",
    "\n",
    "#Average Purchase Price\n",
    "averagePurchasePriceMales = allMalePurchases[\"Price\"].sum() / malePurchases\n",
    "\n",
    "print(round(malePurchases,2),round(totalPurchaseValueMales,2),round(averagePurchasePriceMales,2) )\n",
    "\n",
    "#---FEMALES----\n",
    "#Purchase Count\n",
    "femalePurchases = purchase_data.loc[purchase_data[\"Gender\"] == \"Female\"].count()\n",
    "femalePurchases = femalePurchases[0]\n",
    "\n",
    "#Total Purchase Value\n",
    "allFemalePurchases = purchase_data.loc[purchase_data[\"Gender\"] == \"Female\"]\n",
    "totalPurchaseValueFemales = allFemalePurchases[\"Price\"].sum()\n",
    "\n",
    "#Average Purchase Price\n",
    "averagePurchasePriceFemales = allFemalePurchases[\"Price\"].sum() / femalePurchases\n",
    "\n",
    "print(round(femalePurchases,2),round(totalPurchaseValueFemales,2),round(averagePurchasePriceFemales,2) )\n",
    "\n",
    "#---OTHER----\n",
    "#Purchase Count\n",
    "LATPurchases = purchase_data.loc[purchase_data[\"Gender\"] == \"Other / Non-Disclosed\"].count()\n",
    "LATPurchases = LATPurchases[0]\n",
    "\n",
    "#Total Purchase Value\n",
    "allLATPurchases = purchase_data.loc[purchase_data[\"Gender\"] == \"Other / Non-Disclosed\"]\n",
    "totalPurchaseValueLAT = allLATPurchases[\"Price\"].sum()\n",
    "\n",
    "#Average Purchase Price\n",
    "averagePurchasePriceLAT = allLATPurchases[\"Price\"].sum() / LATPurchases\n",
    "\n",
    "print(round(LATPurchases,2),round(totalPurchaseValueLAT,2),round(averagePurchasePriceLAT,2) )\n",
    "\n",
    "\n",
    "#Average Purchase Total per Person by Gender\n",
    "avgPerPlayerMales = totalPurchaseValueMales / malePlayerCount\n",
    "print(str(round(avgPerPlayerMales,2)))\n",
    "\n",
    "avgPerPlayerFemales = totalPurchaseValueFemales / femalePlayerCount\n",
    "print(str(round(avgPerPlayerFemales,2)))\n",
    "\n",
    "avgPerPlayerLAT = totalPurchaseValueLAT / LAT \n",
    "print(str(round(avgPerPlayerLAT,2)))\n",
    "\n",
    "#Create a dataframe\n",
    "purchasedf = {\"Gender\":[\"Male\",\"Female\",\"Other / Non-Disclosed\"],\"Purchase Count\":[malePurchases,femalePurchases,LATPurchases],\"Average Purchase Price\":[round(averagePurchasePriceMales,2),round(averagePurchasePriceFemales,2),round(averagePurchasePriceLAT,2)],\"Total Purchase Value\":[totalPurchaseValueMales,totalPurchaseValueFemales,totalPurchaseValueLAT],\"Avg Total Purchase Per Person\":[round(avgPerPlayerMales,2),round(avgPerPlayerFemales,2),round(avgPerPlayerLAT,2)]}\n",
    "purchase_df = pd.DataFrame.from_dict(purchasedf)\n",
    "purchase_df.head()"
   ]
  },
  {
   "cell_type": "markdown",
   "metadata": {
    "colab_type": "text",
    "id": "sA5-5V00K82C"
   },
   "source": [
    "## Age Demographics"
   ]
  },
  {
   "cell_type": "markdown",
   "metadata": {
    "colab_type": "text",
    "id": "sBO8xlixK82E"
   },
   "source": [
    "* Establish bins for ages\n",
    "\n",
    "\n",
    "* Categorize the existing players using the age bins. Hint: use pd.cut()\n",
    "\n",
    "\n",
    "* Calculate the numbers and percentages by age group\n",
    "\n",
    "\n",
    "* Create a summary data frame to hold the results\n",
    "\n",
    "\n",
    "* Optional: round the percentage column to two decimal points\n",
    "\n",
    "\n",
    "* Display Age Demographics Table\n"
   ]
  },
  {
   "cell_type": "code",
   "execution_count": null,
   "metadata": {
    "colab": {},
    "colab_type": "code",
    "id": "k9Q_b9dmK82E"
   },
   "outputs": [],
   "source": []
  },
  {
   "cell_type": "markdown",
   "metadata": {
    "colab_type": "text",
    "id": "u1zS0NrDK82I"
   },
   "source": [
    "## Purchasing Analysis (Age)"
   ]
  },
  {
   "cell_type": "markdown",
   "metadata": {
    "colab_type": "text",
    "id": "V-REpkiSK82J"
   },
   "source": [
    "* Bin the purchase_data data frame by age\n",
    "\n",
    "\n",
    "* Run basic calculations to obtain purchase count, avg. purchase price, avg. purchase total per person etc. in the table below\n",
    "\n",
    "\n",
    "* Create a summary data frame to hold the results\n",
    "\n",
    "\n",
    "* Optional: give the displayed data cleaner formatting\n",
    "\n",
    "\n",
    "* Display the summary data frame"
   ]
  },
  {
   "cell_type": "code",
   "execution_count": 7,
   "metadata": {
    "colab": {},
    "colab_type": "code",
    "id": "cuPERySyK82K",
    "outputId": "f459d5e2-c822-48ba-cdad-d1a2e6b7388b"
   },
   "outputs": [
    {
     "data": {
      "text/html": [
       "<div>\n",
       "<style scoped>\n",
       "    .dataframe tbody tr th:only-of-type {\n",
       "        vertical-align: middle;\n",
       "    }\n",
       "\n",
       "    .dataframe tbody tr th {\n",
       "        vertical-align: top;\n",
       "    }\n",
       "\n",
       "    .dataframe thead th {\n",
       "        text-align: right;\n",
       "    }\n",
       "</style>\n",
       "<table border=\"1\" class=\"dataframe\">\n",
       "  <thead>\n",
       "    <tr style=\"text-align: right;\">\n",
       "      <th></th>\n",
       "      <th>Purchase Count</th>\n",
       "      <th>Average Purchase Price</th>\n",
       "      <th>Total Purchase Value</th>\n",
       "      <th>Average Total Purchase Per Person</th>\n",
       "    </tr>\n",
       "    <tr>\n",
       "      <th>Age Range</th>\n",
       "      <th></th>\n",
       "      <th></th>\n",
       "      <th></th>\n",
       "      <th></th>\n",
       "    </tr>\n",
       "  </thead>\n",
       "  <tbody>\n",
       "    <tr>\n",
       "      <th>&lt;10</th>\n",
       "      <td>32</td>\n",
       "      <td>3.40</td>\n",
       "      <td>108.96</td>\n",
       "      <td>3.40</td>\n",
       "    </tr>\n",
       "    <tr>\n",
       "      <th>10-14</th>\n",
       "      <td>54</td>\n",
       "      <td>2.90</td>\n",
       "      <td>156.60</td>\n",
       "      <td>2.90</td>\n",
       "    </tr>\n",
       "    <tr>\n",
       "      <th>15-19</th>\n",
       "      <td>200</td>\n",
       "      <td>3.11</td>\n",
       "      <td>621.56</td>\n",
       "      <td>3.11</td>\n",
       "    </tr>\n",
       "    <tr>\n",
       "      <th>20-24</th>\n",
       "      <td>325</td>\n",
       "      <td>3.02</td>\n",
       "      <td>981.64</td>\n",
       "      <td>3.02</td>\n",
       "    </tr>\n",
       "    <tr>\n",
       "      <th>25-29</th>\n",
       "      <td>77</td>\n",
       "      <td>2.88</td>\n",
       "      <td>221.42</td>\n",
       "      <td>2.88</td>\n",
       "    </tr>\n",
       "    <tr>\n",
       "      <th>30-34</th>\n",
       "      <td>52</td>\n",
       "      <td>2.99</td>\n",
       "      <td>155.71</td>\n",
       "      <td>2.99</td>\n",
       "    </tr>\n",
       "    <tr>\n",
       "      <th>35-39</th>\n",
       "      <td>33</td>\n",
       "      <td>3.40</td>\n",
       "      <td>112.35</td>\n",
       "      <td>3.40</td>\n",
       "    </tr>\n",
       "    <tr>\n",
       "      <th>&gt;40</th>\n",
       "      <td>7</td>\n",
       "      <td>3.08</td>\n",
       "      <td>21.53</td>\n",
       "      <td>3.08</td>\n",
       "    </tr>\n",
       "  </tbody>\n",
       "</table>\n",
       "</div>"
      ],
      "text/plain": [
       "           Purchase Count  Average Purchase Price  Total Purchase Value  \\\n",
       "Age Range                                                                 \n",
       "<10                    32                    3.40                108.96   \n",
       "10-14                  54                    2.90                156.60   \n",
       "15-19                 200                    3.11                621.56   \n",
       "20-24                 325                    3.02                981.64   \n",
       "25-29                  77                    2.88                221.42   \n",
       "30-34                  52                    2.99                155.71   \n",
       "35-39                  33                    3.40                112.35   \n",
       ">40                     7                    3.08                 21.53   \n",
       "\n",
       "           Average Total Purchase Per Person  \n",
       "Age Range                                     \n",
       "<10                                     3.40  \n",
       "10-14                                   2.90  \n",
       "15-19                                   3.11  \n",
       "20-24                                   3.02  \n",
       "25-29                                   2.88  \n",
       "30-34                                   2.99  \n",
       "35-39                                   3.40  \n",
       ">40                                     3.08  "
      ]
     },
     "execution_count": 7,
     "metadata": {},
     "output_type": "execute_result"
    }
   ],
   "source": [
    "bins = [0,10,15,20,25,30,35,40,200]\n",
    "group_names = [\"<10\",\"10-14\",\"15-19\",\"20-24\",\"25-29\",\"30-34\",\"35-39\",\">40\"]\n",
    "\n",
    "#new df called demo df \n",
    "demo_df = purchase_data[[\"SN\",\"Age\",\"Gender\",\"Item ID\",\"Item Name\",\"Price\"]]\n",
    "demo_df[\"Age Range\"] = pd.cut(demo_df[\"Age\"],bins,labels=group_names)\n",
    "\n",
    "#Total Purchase Value by age group\n",
    "sum_df = demo_df.groupby(\"Age Range\")['Price'].sum()\n",
    "sum_df.to_frame()\n",
    "\n",
    "\n",
    "# #Purchase Count by age group\n",
    "count_df = demo_df.groupby(\"Age Range\")['Price'].count()\n",
    "count_df.to_frame()\n",
    "\n",
    "# # #Average Purchase Price\n",
    "\n",
    "# # #Average Purchase Total per Person by Age Group\n",
    "peruser_df = demo_df.groupby(\"Age Range\")[\"SN\"].count()\n",
    "peruser_df.to_frame()\n",
    "\n",
    "# # #merging the DFs\n",
    "merged_df = count_df.to_frame().merge(sum_df.to_frame(),on = \"Age Range\",how = \"outer\")\n",
    "# merged_df\n",
    "\n",
    "renamed_demo_df = merged_df.rename(columns={\"Price_x\":\"Purchase Count\",\"Price_y\":\"Total Purchase Value\"})\n",
    "renamed_demo_df\n",
    "merge2 = renamed_demo_df.merge(peruser_df.to_frame(),on= \"Age Range\",how=\"outer\")\n",
    "merge2 = merge2.rename(columns={\"SN\":\"Unique Users\"})\n",
    "\n",
    "#create calculated values\n",
    "calculatingaverage = merge2[\"Total Purchase Value\"]/merge2[\"Unique Users\"]\n",
    "merge2[\"Average Purchase Price\"] = round(calculatingaverage,2)\n",
    "\n",
    "merge3 = merge2.rename(columns={\"Average Purchase Price\":\"Average Total Purchase Per Person\"})\n",
    "merge3\n",
    "calculatingaveragepurchase = merge3[\"Total Purchase Value\"]/merge3[\"Purchase Count\"]\n",
    "merge3[\"Average Purchase Price\"] = round(calculatingaveragepurchase,2)\n",
    "merge3\n",
    "\n",
    "#removing columns, cleaning up df\n",
    "cleaned_agerange_df = merge3[[\"Purchase Count\",\"Average Purchase Price\",\"Total Purchase Value\",\"Average Total Purchase Per Person\"]]\n",
    "cleaned_agerange_df"
   ]
  },
  {
   "cell_type": "markdown",
   "metadata": {
    "colab_type": "text",
    "id": "sypDs6bSK82O"
   },
   "source": [
    "## Top Spenders"
   ]
  },
  {
   "cell_type": "markdown",
   "metadata": {
    "colab_type": "text",
    "id": "EDYFEBIqK82P"
   },
   "source": [
    "* Run basic calculations to obtain the results in the table below\n",
    "\n",
    "\n",
    "* Create a summary data frame to hold the results\n",
    "\n",
    "\n",
    "* Sort the total purchase value column in descending order\n",
    "\n",
    "\n",
    "* Optional: give the displayed data cleaner formatting\n",
    "\n",
    "\n",
    "* Display a preview of the summary data frame\n",
    "\n"
   ]
  },
  {
   "cell_type": "code",
   "execution_count": 8,
   "metadata": {
    "colab": {},
    "colab_type": "code",
    "id": "7MstrfcTK82R",
    "outputId": "de09c4a8-749a-46d1-dafc-bfdd161b4c94"
   },
   "outputs": [
    {
     "data": {
      "text/html": [
       "<div>\n",
       "<style scoped>\n",
       "    .dataframe tbody tr th:only-of-type {\n",
       "        vertical-align: middle;\n",
       "    }\n",
       "\n",
       "    .dataframe tbody tr th {\n",
       "        vertical-align: top;\n",
       "    }\n",
       "\n",
       "    .dataframe thead th {\n",
       "        text-align: right;\n",
       "    }\n",
       "</style>\n",
       "<table border=\"1\" class=\"dataframe\">\n",
       "  <thead>\n",
       "    <tr style=\"text-align: right;\">\n",
       "      <th></th>\n",
       "      <th>SN</th>\n",
       "      <th>Purchase Count</th>\n",
       "      <th>Total Purchase Value</th>\n",
       "      <th>Average Purchase Price</th>\n",
       "    </tr>\n",
       "  </thead>\n",
       "  <tbody>\n",
       "    <tr>\n",
       "      <th>0</th>\n",
       "      <td>Lisosia93</td>\n",
       "      <td>5</td>\n",
       "      <td>18.96</td>\n",
       "      <td>3.79</td>\n",
       "    </tr>\n",
       "    <tr>\n",
       "      <th>1</th>\n",
       "      <td>Idastidru52</td>\n",
       "      <td>4</td>\n",
       "      <td>15.45</td>\n",
       "      <td>3.86</td>\n",
       "    </tr>\n",
       "    <tr>\n",
       "      <th>2</th>\n",
       "      <td>Chamjask73</td>\n",
       "      <td>3</td>\n",
       "      <td>13.83</td>\n",
       "      <td>4.61</td>\n",
       "    </tr>\n",
       "    <tr>\n",
       "      <th>3</th>\n",
       "      <td>Iral74</td>\n",
       "      <td>4</td>\n",
       "      <td>13.62</td>\n",
       "      <td>3.40</td>\n",
       "    </tr>\n",
       "    <tr>\n",
       "      <th>4</th>\n",
       "      <td>Iskadarya95</td>\n",
       "      <td>3</td>\n",
       "      <td>13.10</td>\n",
       "      <td>4.37</td>\n",
       "    </tr>\n",
       "  </tbody>\n",
       "</table>\n",
       "</div>"
      ],
      "text/plain": [
       "            SN  Purchase Count  Total Purchase Value  Average Purchase Price\n",
       "0    Lisosia93               5                 18.96                    3.79\n",
       "1  Idastidru52               4                 15.45                    3.86\n",
       "2   Chamjask73               3                 13.83                    4.61\n",
       "3       Iral74               4                 13.62                    3.40\n",
       "4  Iskadarya95               3                 13.10                    4.37"
      ]
     },
     "execution_count": 8,
     "metadata": {},
     "output_type": "execute_result"
    }
   ],
   "source": [
    "#sort top spenders by total purchase sum\n",
    "topSpenders = purchase_data.groupby([\"SN\"]).sum().sort_values(\"Price\", ascending=False)\n",
    "topSpenders = topSpenders[[\"Price\"]]\n",
    "topSpenders_df = topSpenders[0:5]\n",
    "#DF with contains SN & total spent\n",
    "topSpenders_df\n",
    "\n",
    "# assign those users to a list\n",
    "topSpenderList = [topSpenders.index[0],topSpenders.index[1],topSpenders.index[2],topSpenders.index[3],topSpenders.index[4]]\n",
    "topSpenderList[0]\n",
    "\n",
    "# Count purchases dataframe - need to find top spenders in this list\n",
    "countPurchases = purchase_data.groupby([\"SN\"]).count()\n",
    "\n",
    "firstPlayer = countPurchases.loc[countPurchases.index==topSpenderList[0]]\n",
    "firstPlayer\n",
    "\n",
    "secondPlayer = countPurchases.loc[countPurchases.index==topSpenderList[1]]\n",
    "secondPlayer\n",
    "\n",
    "thirdPlayer = countPurchases.loc[countPurchases.index==topSpenderList[2]]\n",
    "\n",
    "forthPlayer = countPurchases.loc[countPurchases.index==topSpenderList[3]]\n",
    "\n",
    "fifthPlayer = countPurchases.loc[countPurchases.index==topSpenderList[4]]\n",
    "#final list with top spending players' purchase amounts\n",
    "topSpenderPurchaseCount = [firstPlayer.iloc[0,0],secondPlayer.iloc[0,0],thirdPlayer.iloc[0,0],forthPlayer.iloc[0,0],fifthPlayer.iloc[0,0]]\n",
    "topSpenderPurchaseCount\n",
    "\n",
    "dictionaryOfTopSpenders = {'SN':topSpenderList,\"Purchase Count\":topSpenderPurchaseCount}\n",
    "topSpendersFinal_df = pd.DataFrame(data=dictionaryOfTopSpenders)\n",
    "topSpendersFinal_df\n",
    "# topSpenders_df\n",
    "\n",
    "final_final_df = topSpendersFinal_df.merge(topSpenders_df,on=\"SN\",how=\"outer\")\n",
    "final_final_df\n",
    "averagePurchasePrice = final_final_df[\"Price\"] / final_final_df[\"Purchase Count\"]\n",
    "final_final_df[\"Average Purchase Price\"] = round(averagePurchasePrice,2)\n",
    "final_final_df.rename(columns={\"Price\":\"Total Purchase Value\"})"
   ]
  },
  {
   "cell_type": "code",
   "execution_count": null,
   "metadata": {
    "colab": {},
    "colab_type": "code",
    "id": "jEsZ7MxaK82V"
   },
   "outputs": [],
   "source": []
  },
  {
   "cell_type": "code",
   "execution_count": null,
   "metadata": {
    "colab": {},
    "colab_type": "code",
    "id": "FlAwnGRpK82Y"
   },
   "outputs": [],
   "source": []
  },
  {
   "cell_type": "code",
   "execution_count": null,
   "metadata": {
    "colab": {},
    "colab_type": "code",
    "id": "hFsYuYkVK82b"
   },
   "outputs": [],
   "source": []
  },
  {
   "cell_type": "code",
   "execution_count": null,
   "metadata": {
    "colab": {},
    "colab_type": "code",
    "id": "UXjTcD2NK82h"
   },
   "outputs": [],
   "source": []
  },
  {
   "cell_type": "markdown",
   "metadata": {
    "colab_type": "text",
    "id": "65AGEEfsK82l"
   },
   "source": [
    "## Most Popular Items"
   ]
  },
  {
   "cell_type": "markdown",
   "metadata": {
    "colab_type": "text",
    "id": "utTynPPWK82n"
   },
   "source": [
    "* Retrieve the Item ID, Item Name, and Item Price columns\n",
    "\n",
    "\n",
    "* Group by Item ID and Item Name. Perform calculations to obtain purchase count, item price, and total purchase value\n",
    "\n",
    "\n",
    "* Create a summary data frame to hold the results\n",
    "\n",
    "\n",
    "* Sort the purchase count column in descending order\n",
    "\n",
    "\n",
    "* Optional: give the displayed data cleaner formatting\n",
    "\n",
    "\n",
    "* Display a preview of the summary data frame\n",
    "\n"
   ]
  },
  {
   "cell_type": "code",
   "execution_count": 9,
   "metadata": {
    "colab": {},
    "colab_type": "code",
    "id": "53WhGy9zK82o",
    "outputId": "7462f1b0-32a8-4cc6-b60a-69125fea4cd4"
   },
   "outputs": [
    {
     "data": {
      "text/html": [
       "<div>\n",
       "<style scoped>\n",
       "    .dataframe tbody tr th:only-of-type {\n",
       "        vertical-align: middle;\n",
       "    }\n",
       "\n",
       "    .dataframe tbody tr th {\n",
       "        vertical-align: top;\n",
       "    }\n",
       "\n",
       "    .dataframe thead th {\n",
       "        text-align: right;\n",
       "    }\n",
       "</style>\n",
       "<table border=\"1\" class=\"dataframe\">\n",
       "  <thead>\n",
       "    <tr style=\"text-align: right;\">\n",
       "      <th></th>\n",
       "      <th>Item ID</th>\n",
       "      <th>Item Name</th>\n",
       "      <th>Purchase Count</th>\n",
       "      <th>Item Price</th>\n",
       "      <th>Total Purchase Value</th>\n",
       "    </tr>\n",
       "  </thead>\n",
       "  <tbody>\n",
       "    <tr>\n",
       "      <th>0</th>\n",
       "      <td>92</td>\n",
       "      <td>Final Critic</td>\n",
       "      <td>13</td>\n",
       "      <td>4.88</td>\n",
       "      <td>63.44</td>\n",
       "    </tr>\n",
       "    <tr>\n",
       "      <th>1</th>\n",
       "      <td>178</td>\n",
       "      <td>Oathbreaker, Last Hope of the Breaking Storm</td>\n",
       "      <td>12</td>\n",
       "      <td>4.23</td>\n",
       "      <td>50.76</td>\n",
       "    </tr>\n",
       "    <tr>\n",
       "      <th>2</th>\n",
       "      <td>141</td>\n",
       "      <td>Persuasion</td>\n",
       "      <td>9</td>\n",
       "      <td>3.19</td>\n",
       "      <td>28.71</td>\n",
       "    </tr>\n",
       "    <tr>\n",
       "      <th>3</th>\n",
       "      <td>82</td>\n",
       "      <td>Nirvana</td>\n",
       "      <td>9</td>\n",
       "      <td>4.90</td>\n",
       "      <td>44.10</td>\n",
       "    </tr>\n",
       "    <tr>\n",
       "      <th>4</th>\n",
       "      <td>108</td>\n",
       "      <td>Extraction, Quickblade Of Trembling Hands</td>\n",
       "      <td>9</td>\n",
       "      <td>3.53</td>\n",
       "      <td>31.77</td>\n",
       "    </tr>\n",
       "  </tbody>\n",
       "</table>\n",
       "</div>"
      ],
      "text/plain": [
       "   Item ID                                     Item Name  Purchase Count  \\\n",
       "0       92                                  Final Critic              13   \n",
       "1      178  Oathbreaker, Last Hope of the Breaking Storm              12   \n",
       "2      141                                    Persuasion               9   \n",
       "3       82                                       Nirvana               9   \n",
       "4      108     Extraction, Quickblade Of Trembling Hands               9   \n",
       "\n",
       "   Item Price  Total Purchase Value  \n",
       "0        4.88                 63.44  \n",
       "1        4.23                 50.76  \n",
       "2        3.19                 28.71  \n",
       "3        4.90                 44.10  \n",
       "4        3.53                 31.77  "
      ]
     },
     "execution_count": 9,
     "metadata": {},
     "output_type": "execute_result"
    }
   ],
   "source": [
    "mostPopular = purchase_data.groupby([\"Item Name\"]).count().sort_values(\"Price\",ascending=False)\n",
    "#5 most popular items\n",
    "mostPopular[0:5]\n",
    "mostPopularList = [mostPopular.index[0],mostPopular.index[1],mostPopular.index[2],mostPopular.index[3],mostPopular.index[4]]\n",
    "#list of purchase counts\n",
    "purchaseCountList = [mostPopular.iloc[0,0],mostPopular.iloc[1,0],mostPopular.iloc[2,0],mostPopular.iloc[3,0],mostPopular.iloc[4,0]]\n",
    "\n",
    "# Getting item IDs & Price\n",
    "itemList=[]\n",
    "itemList.append(purchase_data.loc[purchase_data[\"Item Name\"]==mostPopularList[0]].iloc[0,4])\n",
    "itemList.append(purchase_data.loc[purchase_data[\"Item Name\"]==mostPopularList[1]].iloc[0,4])\n",
    "itemList.append(purchase_data.loc[purchase_data[\"Item Name\"]==mostPopularList[2]].iloc[0,4])\n",
    "itemList.append(purchase_data.loc[purchase_data[\"Item Name\"]==mostPopularList[3]].iloc[0,4])\n",
    "itemList.append(purchase_data.loc[purchase_data[\"Item Name\"]==mostPopularList[4]].iloc[0,4])\n",
    "itemList\n",
    "\n",
    "itemPrice = []\n",
    "itemPrice.append(purchase_data.loc[purchase_data[\"Item Name\"]==mostPopularList[0]].iloc[0,6])\n",
    "itemPrice.append(purchase_data.loc[purchase_data[\"Item Name\"]==mostPopularList[1]].iloc[0,6])\n",
    "itemPrice.append(purchase_data.loc[purchase_data[\"Item Name\"]==mostPopularList[2]].iloc[0,6])\n",
    "itemPrice.append(purchase_data.loc[purchase_data[\"Item Name\"]==mostPopularList[3]].iloc[0,6])\n",
    "itemPrice.append(purchase_data.loc[purchase_data[\"Item Name\"]==mostPopularList[4]].iloc[0,6])\n",
    "\n",
    "itemPrice #list with item prices\n",
    "\n",
    "\n",
    "d={\"Item ID\":itemList,\"Item Name\":mostPopularList,\"Purchase Count\":purchaseCountList,\"Item Price\":itemPrice}\n",
    "mostPopularItem_df=pd.DataFrame(data=d)\n",
    "\n",
    "totalPurchaseValue = mostPopularItem_df[\"Purchase Count\"]*mostPopularItem_df[\"Item Price\"]\n",
    "mostPopularItem_df[\"Total Purchase Value\"] = totalPurchaseValue\n",
    "mostPopularItem_df\n",
    "\n",
    "mostPopularItem_df.sort_values(\"Purchase Count\",ascending=False)\n",
    "\n",
    "#get item names, price & ID\n",
    "# group by item name, take sum price / actual price = number of purchases"
   ]
  },
  {
   "cell_type": "markdown",
   "metadata": {
    "colab_type": "text",
    "id": "0ft6NsmfK82r"
   },
   "source": [
    "## Most Profitable Items"
   ]
  },
  {
   "cell_type": "markdown",
   "metadata": {
    "colab_type": "text",
    "id": "Hf1pAnIhK82s"
   },
   "source": [
    "* Sort the above table by total purchase value in descending order\n",
    "\n",
    "\n",
    "* Optional: give the displayed data cleaner formatting\n",
    "\n",
    "\n",
    "* Display a preview of the data frame\n",
    "\n"
   ]
  },
  {
   "cell_type": "code",
   "execution_count": 13,
   "metadata": {
    "colab": {},
    "colab_type": "code",
    "id": "qV_iWacRK82t",
    "outputId": "542118cf-9c78-4fb6-bb90-b5a48a32bba0",
    "scrolled": true
   },
   "outputs": [
    {
     "data": {
      "text/html": [
       "<div>\n",
       "<style scoped>\n",
       "    .dataframe tbody tr th:only-of-type {\n",
       "        vertical-align: middle;\n",
       "    }\n",
       "\n",
       "    .dataframe tbody tr th {\n",
       "        vertical-align: top;\n",
       "    }\n",
       "\n",
       "    .dataframe thead th {\n",
       "        text-align: right;\n",
       "    }\n",
       "</style>\n",
       "<table border=\"1\" class=\"dataframe\">\n",
       "  <thead>\n",
       "    <tr style=\"text-align: right;\">\n",
       "      <th></th>\n",
       "      <th>Item ID</th>\n",
       "      <th>Item Name</th>\n",
       "      <th>Purchase Count</th>\n",
       "      <th>Item Price</th>\n",
       "      <th>Total Purchase Value</th>\n",
       "    </tr>\n",
       "  </thead>\n",
       "  <tbody>\n",
       "    <tr>\n",
       "      <th>0</th>\n",
       "      <td>92</td>\n",
       "      <td>Final Critic</td>\n",
       "      <td>13</td>\n",
       "      <td>4.88</td>\n",
       "      <td>63.44</td>\n",
       "    </tr>\n",
       "    <tr>\n",
       "      <th>1</th>\n",
       "      <td>178</td>\n",
       "      <td>Oathbreaker, Last Hope of the Breaking Storm</td>\n",
       "      <td>12</td>\n",
       "      <td>4.23</td>\n",
       "      <td>50.76</td>\n",
       "    </tr>\n",
       "    <tr>\n",
       "      <th>2</th>\n",
       "      <td>82</td>\n",
       "      <td>Nirvana</td>\n",
       "      <td>9</td>\n",
       "      <td>4.90</td>\n",
       "      <td>44.10</td>\n",
       "    </tr>\n",
       "    <tr>\n",
       "      <th>3</th>\n",
       "      <td>145</td>\n",
       "      <td>Fiery Glass Crusader</td>\n",
       "      <td>9</td>\n",
       "      <td>4.58</td>\n",
       "      <td>41.22</td>\n",
       "    </tr>\n",
       "    <tr>\n",
       "      <th>4</th>\n",
       "      <td>103</td>\n",
       "      <td>Singed Scalpel</td>\n",
       "      <td>8</td>\n",
       "      <td>4.35</td>\n",
       "      <td>34.80</td>\n",
       "    </tr>\n",
       "  </tbody>\n",
       "</table>\n",
       "</div>"
      ],
      "text/plain": [
       "   Item ID                                     Item Name  Purchase Count  \\\n",
       "0       92                                  Final Critic              13   \n",
       "1      178  Oathbreaker, Last Hope of the Breaking Storm              12   \n",
       "2       82                                       Nirvana               9   \n",
       "3      145                          Fiery Glass Crusader               9   \n",
       "4      103                                Singed Scalpel               8   \n",
       "\n",
       "   Item Price  Total Purchase Value  \n",
       "0        4.88                 63.44  \n",
       "1        4.23                 50.76  \n",
       "2        4.90                 44.10  \n",
       "3        4.58                 41.22  \n",
       "4        4.35                 34.80  "
      ]
     },
     "execution_count": 13,
     "metadata": {},
     "output_type": "execute_result"
    }
   ],
   "source": [
    "sortedByPrice_df = purchase_data.groupby([\"Item Name\"]).sum().sort_values(\"Price\",ascending=False)\n",
    "\n",
    "#list of most profitable item names\n",
    "mostProfitableList = [sortedByPrice_df.index[0],sortedByPrice_df.index[1],sortedByPrice_df.index[2],sortedByPrice_df.index[3],sortedByPrice_df.index[4]]\n",
    "\n",
    "\n",
    "#get prices\n",
    "itemPrice=[]\n",
    "itemPrice.append(purchase_data.loc[purchase_data[\"Item Name\"]==mostProfitableList[0]].iloc[0,6])\n",
    "itemPrice.append(purchase_data.loc[purchase_data[\"Item Name\"]==mostProfitableList[1]].iloc[0,6])\n",
    "itemPrice.append(purchase_data.loc[purchase_data[\"Item Name\"]==mostProfitableList[2]].iloc[0,6])\n",
    "itemPrice.append(purchase_data.loc[purchase_data[\"Item Name\"]==mostProfitableList[3]].iloc[0,6])\n",
    "itemPrice.append(purchase_data.loc[purchase_data[\"Item Name\"]==mostProfitableList[4]].iloc[0,6])\n",
    "itemPrice\n",
    "\n",
    "#get ids\n",
    "itemIds=[]\n",
    "itemIds.append(purchase_data.loc[purchase_data[\"Item Name\"]==mostProfitableList[0]].iloc[0,4])\n",
    "itemIds.append(purchase_data.loc[purchase_data[\"Item Name\"]==mostProfitableList[1]].iloc[0,4])\n",
    "itemIds.append(purchase_data.loc[purchase_data[\"Item Name\"]==mostProfitableList[2]].iloc[0,4])\n",
    "itemIds.append(purchase_data.loc[purchase_data[\"Item Name\"]==mostProfitableList[3]].iloc[0,4])\n",
    "itemIds.append(purchase_data.loc[purchase_data[\"Item Name\"]==mostProfitableList[4]].iloc[0,4])\n",
    "itemIds\n",
    "\n",
    "\n",
    "sortedByPriceCount_df = purchase_data.groupby([\"Item Name\"]).count().sort_values(\"Price\",ascending=False)\n",
    "sortedByPriceCount_df.rename(columns={\"Price\":\"Total Purchase Value\"})\n",
    "# sortedByPriceCount_df.index[0]\n",
    "\n",
    "\n",
    "\n",
    "#list of purchase counts\n",
    "purchaseCounts = []\n",
    "purchaseCounts.append(sortedByPriceCount_df.loc[sortedByPriceCount_df.index==mostProfitableList[0]].iloc[0,0])\n",
    "purchaseCounts.append(sortedByPriceCount_df.loc[sortedByPriceCount_df.index==mostProfitableList[1]].iloc[0,0])\n",
    "purchaseCounts.append(sortedByPriceCount_df.loc[sortedByPriceCount_df.index==mostProfitableList[2]].iloc[0,0])\n",
    "purchaseCounts.append(sortedByPriceCount_df.loc[sortedByPriceCount_df.index==mostProfitableList[3]].iloc[0,0])\n",
    "purchaseCounts.append(sortedByPriceCount_df.loc[sortedByPriceCount_df.index==mostProfitableList[4]].iloc[0,0])\n",
    "purchaseCounts\n",
    "\n",
    "dict = {\"Item ID\":itemIds,\"Item Name\":mostProfitableList,\"Purchase Count\":purchaseCounts,\"Item Price\":itemPrice,}\n",
    "mostProfitableItems_df = pd.DataFrame(data=dict)\n",
    "\n",
    "\n",
    "totalRevenue = mostProfitableItems_df[\"Item Price\"]*mostProfitableItems_df[\"Purchase Count\"]\n",
    "mostProfitableItems_df[\"Total Purchase Value\"] = totalRevenue\n",
    "mostProfitableItems_df\n",
    "\n"
   ]
  },
  {
   "cell_type": "code",
   "execution_count": null,
   "metadata": {
    "colab": {},
    "colab_type": "code",
    "id": "dhUIsVVWK82w"
   },
   "outputs": [],
   "source": []
  }
 ],
 "metadata": {
  "colab": {
   "name": "HeroesOfPymoli_starter.ipynb",
   "provenance": [],
   "version": "0.3.2"
  },
  "kernelspec": {
   "display_name": "Python 3",
   "language": "python",
   "name": "python3"
  },
  "language_info": {
   "codemirror_mode": {
    "name": "ipython",
    "version": 3
   },
   "file_extension": ".py",
   "mimetype": "text/x-python",
   "name": "python",
   "nbconvert_exporter": "python",
   "pygments_lexer": "ipython3",
   "version": "3.6.7"
  }
 },
 "nbformat": 4,
 "nbformat_minor": 1
}
